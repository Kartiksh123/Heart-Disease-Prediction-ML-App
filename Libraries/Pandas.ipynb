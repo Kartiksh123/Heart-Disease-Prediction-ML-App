{
 "cells": [
  {
   "cell_type": "code",
   "execution_count": 1,
   "id": "f33e4038-e97a-4ff6-a703-2626a38ffd9a",
   "metadata": {},
   "outputs": [
    {
     "name": "stdout",
     "output_type": "stream",
     "text": [
      "    Cars  Passing\n",
      "0    BMW        3\n",
      "1  VOLVO        4\n",
      "2   AUDI        5\n"
     ]
    }
   ],
   "source": [
    "import pandas \n",
    "mydataset={'Cars':['BMW','VOLVO','AUDI'],'Passing':[3,4,5]}\n",
    "myvar=pandas.DataFrame(mydataset)\n",
    "print(myvar)\n"
   ]
  },
  {
   "cell_type": "code",
   "execution_count": null,
   "id": "c7fd54af-6210-4f2a-bed3-25246210a2f3",
   "metadata": {},
   "outputs": [],
   "source": []
  }
 ],
 "metadata": {
  "kernelspec": {
   "display_name": "Python 3 (ipykernel)",
   "language": "python",
   "name": "python3"
  },
  "language_info": {
   "codemirror_mode": {
    "name": "ipython",
    "version": 3
   },
   "file_extension": ".py",
   "mimetype": "text/x-python",
   "name": "python",
   "nbconvert_exporter": "python",
   "pygments_lexer": "ipython3",
   "version": "3.13.1"
  }
 },
 "nbformat": 4,
 "nbformat_minor": 5
}
